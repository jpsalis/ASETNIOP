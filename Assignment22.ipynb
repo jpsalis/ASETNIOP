{
  "nbformat": 4,
  "nbformat_minor": 0,
  "metadata": {
    "colab": {
      "provenance": [],
      "authorship_tag": "ABX9TyMeLCzfgGkAPn8cTLe3dA3H",
      "include_colab_link": true
    },
    "kernelspec": {
      "name": "python3",
      "display_name": "Python 3"
    },
    "language_info": {
      "name": "python"
    }
  },
  "cells": [
    {
      "cell_type": "markdown",
      "metadata": {
        "id": "view-in-github",
        "colab_type": "text"
      },
      "source": [
        "<a href=\"https://colab.research.google.com/github/jpsalis/ASETNIOP/blob/main/Assignment22.ipynb\" target=\"_parent\"><img src=\"https://colab.research.google.com/assets/colab-badge.svg\" alt=\"Open In Colab\"/></a>"
      ]
    },
    {
      "cell_type": "code",
      "execution_count": 9,
      "metadata": {
        "colab": {
          "base_uri": "https://localhost:8080/"
        },
        "id": "Wv0h11e4F-f-",
        "outputId": "a8b12b71-a657-41d2-9b41-8115a89063d7"
      },
      "outputs": [
        {
          "output_type": "stream",
          "name": "stdout",
          "text": [
            "7.810249675906654\n",
            "8.602325267042627\n",
            "[('(7, 3)', 7.615773105863909), ('(-43, 6)', 43.41658669218482), ('(2, 453)', 453.004414989523)]\n"
          ]
        }
      ],
      "source": [
        "# 1:\n",
        "import math\n",
        "\n",
        "class Vector2D:\n",
        "    def __init__(self, x, y):\n",
        "      self.x = x\n",
        "      self.y = y\n",
        "\n",
        "    def __repr__(self):\n",
        "      return f\"Vector2D({self.x}, {self.y})\"\n",
        "\n",
        "    def __str__(self):\n",
        "      return f\"({self.x}, {self.y})\"\n",
        "\n",
        "    def __lt__(self, other):\n",
        "      return self.length() < other.length()\n",
        "\n",
        "    def length(self):\n",
        "      return math.sqrt(self.x**2 + self.y**2)\n",
        "\n",
        "    # Was thinking about using __len__ but\n",
        "    # this isn't the intended usecase for that\n",
        "\n",
        "vect1 = Vector2D(5, 6)\n",
        "vect2 = Vector2D(7, -5)\n",
        "\n",
        "print(vect1.length())\n",
        "print(vect2.length())\n",
        "\n",
        "vectors = [Vector2D(2, 453), Vector2D(7, 3), Vector2D(-43, 6)]\n",
        "vectors.sort()\n",
        "print([v.length() for v in vectors])"
      ]
    },
    {
      "cell_type": "code",
      "execution_count": 12,
      "metadata": {
        "colab": {
          "base_uri": "https://localhost:8080/"
        },
        "outputId": "d9593ced-069c-4a97-a862-41590818f99f",
        "id": "fFBpeIc42MLv"
      },
      "outputs": [
        {
          "output_type": "stream",
          "name": "stdout",
          "text": [
            "7.810249675906654\n",
            "11\n",
            "8.602325267042627\n",
            "12\n",
            "[10, 49, 455]\n"
          ]
        }
      ],
      "source": [
        "# 2:\n",
        "import math\n",
        "\n",
        "class Vector2D:\n",
        "    def __init__(self, x, y):\n",
        "      self.x = x\n",
        "      self.y = y\n",
        "\n",
        "    def __repr__(self):\n",
        "      return f\"Vector2D({self.x}, {self.y})\"\n",
        "\n",
        "    def __str__(self):\n",
        "      return f\"({self.x}, {self.y})\"\n",
        "\n",
        "    def __lt__(self, other):\n",
        "      ''' less than '''\n",
        "      return self.length_m() < other.length_m()\n",
        "\n",
        "    def length(self):\n",
        "      ''' Euclidean length '''\n",
        "      return math.sqrt(self.x**2 + self.y**2)\n",
        "\n",
        "    def length_m(self):\n",
        "      ''' Manhattan length '''\n",
        "      return abs(self.x) + abs(self.y)\n",
        "\n",
        "vect1 = Vector2D(5, 6)\n",
        "vect2 = Vector2D(7, -5)\n",
        "\n",
        "print(vect1.length())\n",
        "print(vect1.length_m())\n",
        "print(vect2.length())\n",
        "print(vect2.length_m())\n",
        "\n",
        "vectors = [Vector2D(2, 453), Vector2D(7, 3), Vector2D(-43, 6)]\n",
        "vectors.sort()\n",
        "print([v.length_m() for v in vectors])"
      ]
    },
    {
      "cell_type": "code",
      "source": [
        "class Special:\n",
        "  def __getitem__(self, key):\n",
        "    return len(key)\n",
        "\n",
        "s1 = Special()\n",
        "print(s1[\"ned\"])\n",
        "print(s1[\"ned2\"])\n",
        "print(s1[\"ned2\" * 5])"
      ],
      "metadata": {
        "colab": {
          "base_uri": "https://localhost:8080/"
        },
        "id": "HnWv8uRV4ple",
        "outputId": "1e6bbd09-169a-4a35-cfbf-c113460b6520"
      },
      "execution_count": 18,
      "outputs": [
        {
          "output_type": "stream",
          "name": "stdout",
          "text": [
            "3\n",
            "4\n",
            "20\n"
          ]
        }
      ]
    }
  ]
}